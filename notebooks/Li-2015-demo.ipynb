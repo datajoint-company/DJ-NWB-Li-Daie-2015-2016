{
 "cells": [
  {
   "cell_type": "markdown",
   "metadata": {},
   "source": [
    "# Li-2015 - A DataJoint example\n",
    "The data and results presented in this notebook pertain to the paper:\n",
    "\n",
    ">Nuo Li, Tsai-Wen Chen, Zengcai V. Guo, Charles R. Gerfen & Karel Svoboda. \"A motor cortex circuit for motor planning and movement\" (2015) Nature (https://dx.doi.org/10.1038/nature14178)\n",
    "\n",
    "This notebook provide demonstrations of working with a DataJoint data pipeline in querying data, apply data conditioning and reproduce some key figures in the paper. The orignal data , in NWB 2.0 format, had been ingested into a DataJoint data pipeline (data pipeline schema is given below). As a validation of complete ingestion of the original data into DataJoint, figures 2b, 2c, and extended figure 2 will be reproduced in this example."
   ]
  },
  {
   "cell_type": "code",
   "execution_count": 1,
   "metadata": {},
   "outputs": [
    {
     "name": "stdout",
     "output_type": "stream",
     "text": [
      "Please enter DataJoint username: root\n",
      "Please enter DataJoint password: ········\n",
      "Connecting root@localhost:3306\n"
     ]
    }
   ],
   "source": [
    "import datajoint as dj\n",
    "dj.conn().connect()"
   ]
  },
  {
   "cell_type": "code",
   "execution_count": 2,
   "metadata": {},
   "outputs": [],
   "source": [
    "%matplotlib inline\n",
    "import os\n",
    "os.chdir('..')\n",
    "\n",
    "import numpy as np\n",
    "import scipy as sp\n",
    "import matplotlib.pyplot as plt\n",
    "from scipy import signal\n",
    "\n",
    "from pipeline import lab, experiment, ephys, psth\n",
    "from pipeline.plot import unit_characteristic_plot, unit_psth"
   ]
  },
  {
   "cell_type": "code",
   "execution_count": 3,
   "metadata": {},
   "outputs": [],
   "source": [
    "import warnings\n",
    "warnings.filterwarnings('ignore')"
   ]
  },
  {
   "cell_type": "markdown",
   "metadata": {},
   "source": [
    "## Single unit PSTH - Figure 2b"
   ]
  },
  {
   "cell_type": "markdown",
   "metadata": {},
   "source": [
    "#### Sample neurons"
   ]
  },
  {
   "cell_type": "code",
   "execution_count": 4,
   "metadata": {},
   "outputs": [],
   "source": [
    "units = ephys.Unit & [{'subject_id': 218457, 'session': 4, 'unit': 9},\n",
    "                      {'subject_id': 219248, 'session': 2, 'unit': 1},\n",
    "                      {'subject_id': 219037, 'session': 2, 'unit': 5},\n",
    "                      {'subject_id': 219031, 'session': 2, 'unit': 17},\n",
    "                      {'subject_id': 210862, 'session': 2, 'unit': 21},\n",
    "                      {'subject_id': 210863, 'session': 2, 'unit': 10},\n",
    "                      {'subject_id': 210863, 'session': 1, 'unit': 9},\n",
    "                      {'subject_id': 219033, 'session': 5, 'unit': 1},\n",
    "                      {'subject_id': 219036, 'session': 5, 'unit': 13}]"
   ]
  },
  {
   "cell_type": "code",
   "execution_count": 5,
   "metadata": {},
   "outputs": [],
   "source": [
    "for k in units.fetch('KEY'):\n",
    "    unit_psth.plot_unit_psth(k)"
   ]
  },
  {
   "cell_type": "markdown",
   "metadata": {},
   "source": [
    "## Single unit PSTH - supplemental Figure 2"
   ]
  },
  {
   "cell_type": "code",
   "execution_count": 6,
   "metadata": {},
   "outputs": [],
   "source": [
    "units = ephys.Unit & [{'subject_id': 214430, 'session': 2, 'unit': 4},\n",
    "                      {'subject_id': 218457, 'session': 1, 'unit': 1},\n",
    "                      {'subject_id': 210863, 'session': 1, 'unit': 7},\n",
    "                      {'subject_id': 219033, 'session': 4, 'unit': 5},\n",
    "                      {'subject_id': 210862, 'session': 2, 'unit': 16},\n",
    "                      {'subject_id': 210861, 'session': 2, 'unit': 5},\n",
    "                      {'subject_id': 210863, 'session': 1, 'unit': 10},\n",
    "                      {'subject_id': 218457, 'session': 3, 'unit': 3},\n",
    "                      {'subject_id': 219031, 'session': 5, 'unit': 3},\n",
    "                      {'subject_id': 210863, 'session': 2, 'unit': 10},\n",
    "                      {'subject_id': 219033, 'session': 3, 'unit': 5},\n",
    "                      {'subject_id': 218457, 'session': 4, 'unit': 12},\n",
    "                      {'subject_id': 219247, 'session': 1, 'unit': 3},\n",
    "                      {'subject_id': 219248, 'session': 2, 'unit': 11},\n",
    "                      {'subject_id': 210862, 'session': 2, 'unit': 4},\n",
    "                      \n",
    "                      {'subject_id': 219248, 'session': 1, 'unit': 11},\n",
    "                      {'subject_id': 219031, 'session': 5, 'unit': 4},\n",
    "                      {'subject_id': 219031, 'session': 2, 'unit': 14},\n",
    "                      {'subject_id': 210863, 'session': 3, 'unit': 33},\n",
    "                      {'subject_id': 219030, 'session': 5, 'unit': 8}]"
   ]
  },
  {
   "cell_type": "code",
   "execution_count": 7,
   "metadata": {},
   "outputs": [],
   "source": [
    "for k in units.fetch('KEY'):\n",
    "    unit_psth.plot_unit_psth(k)"
   ]
  },
  {
   "cell_type": "markdown",
   "metadata": {},
   "source": [
    "## Group-level unit PSTH with selectivity - Figure 2c"
   ]
  },
  {
   "cell_type": "code",
   "execution_count": 8,
   "metadata": {},
   "outputs": [],
   "source": [
    "units = (ephys.Unit & (ephys.ProbeInsertion.InsertionLocation\n",
    "                       * experiment.BrainLocation  & {'brain_area': 'M2', 'hemisphere': 'left'}))"
   ]
  },
  {
   "cell_type": "code",
   "execution_count": 9,
   "metadata": {},
   "outputs": [],
   "source": [
    "units = units * ephys.UnitCellType * psth.UnitSelectivity & 'cell_type = \"Pyr\"' & 'unit_selectivity != \"non-selective\"'"
   ]
  },
  {
   "cell_type": "code",
   "execution_count": 10,
   "metadata": {},
   "outputs": [
    {
     "ename": "IndexError",
     "evalue": "index 0 is out of bounds for axis 0 with size 0",
     "output_type": "error",
     "traceback": [
      "\u001b[1;31m---------------------------------------------------------------------------\u001b[0m",
      "\u001b[1;31mIndexError\u001b[0m                                Traceback (most recent call last)",
      "\u001b[1;32m<ipython-input-10-0cf5da65cbec>\u001b[0m in \u001b[0;36m<module>\u001b[1;34m()\u001b[0m\n\u001b[1;32m----> 1\u001b[1;33m \u001b[0munit_characteristic_plot\u001b[0m\u001b[1;33m.\u001b[0m\u001b[0mplot_stacked_contra_ipsi_psth\u001b[0m\u001b[1;33m(\u001b[0m\u001b[0munits\u001b[0m\u001b[1;33m)\u001b[0m\u001b[1;33m\u001b[0m\u001b[0m\n\u001b[0m",
      "\u001b[1;32m~\\Documents\\TN-Vathes\\NWB_Janelia\\Li-2015a\\pipeline\\plot\\unit_characteristic_plot.py\u001b[0m in \u001b[0;36mplot_stacked_contra_ipsi_psth\u001b[1;34m(units, axs)\u001b[0m\n\u001b[0;32m    204\u001b[0m                          'period_start')\n\u001b[0;32m    205\u001b[0m \u001b[1;33m\u001b[0m\u001b[0m\n\u001b[1;32m--> 206\u001b[1;33m     \u001b[0mhemi\u001b[0m \u001b[1;33m=\u001b[0m \u001b[0m_get_units_hemisphere\u001b[0m\u001b[1;33m(\u001b[0m\u001b[0munits\u001b[0m\u001b[1;33m)\u001b[0m\u001b[1;33m\u001b[0m\u001b[0m\n\u001b[0m\u001b[0;32m    207\u001b[0m \u001b[1;33m\u001b[0m\u001b[0m\n\u001b[0;32m    208\u001b[0m     conds_i = (psth.TrialCondition\n",
      "\u001b[1;32m~\\Documents\\TN-Vathes\\NWB_Janelia\\Li-2015a\\pipeline\\plot\\__init__.py\u001b[0m in \u001b[0;36m_get_units_hemisphere\u001b[1;34m(units)\u001b[0m\n\u001b[0;32m    121\u001b[0m     \u001b[1;32mif\u001b[0m \u001b[0mlen\u001b[0m\u001b[1;33m(\u001b[0m\u001b[0mhemispheres\u001b[0m\u001b[1;33m)\u001b[0m \u001b[1;33m>\u001b[0m \u001b[1;36m1\u001b[0m\u001b[1;33m:\u001b[0m\u001b[1;33m\u001b[0m\u001b[0m\n\u001b[0;32m    122\u001b[0m         \u001b[1;32mraise\u001b[0m \u001b[0mException\u001b[0m\u001b[1;33m(\u001b[0m\u001b[1;34m'Error! The specified units belongs to both hemispheres...'\u001b[0m\u001b[1;33m)\u001b[0m\u001b[1;33m\u001b[0m\u001b[0m\n\u001b[1;32m--> 123\u001b[1;33m     \u001b[1;32mreturn\u001b[0m \u001b[0mhemispheres\u001b[0m\u001b[1;33m[\u001b[0m\u001b[1;36m0\u001b[0m\u001b[1;33m]\u001b[0m\u001b[1;33m\u001b[0m\u001b[0m\n\u001b[0m\u001b[0;32m    124\u001b[0m \u001b[1;33m\u001b[0m\u001b[0m\n\u001b[0;32m    125\u001b[0m \u001b[1;33m\u001b[0m\u001b[0m\n",
      "\u001b[1;31mIndexError\u001b[0m: index 0 is out of bounds for axis 0 with size 0"
     ]
    },
    {
     "data": {
      "image/png": "[encoded data removed]",
      "text/plain": [
       "<Figure size 1440x1440 with 2 Axes>"
      ]
     },
     "metadata": {
      "needs_background": "light"
     },
     "output_type": "display_data"
    }
   ],
   "source": [
    "unit_characteristic_plot.plot_stacked_contra_ipsi_psth(units)"
   ]
  },
  {
   "cell_type": "markdown",
   "metadata": {},
   "source": [
    "# ====================================="
   ]
  },
  {
   "cell_type": "code",
   "execution_count": null,
   "metadata": {},
   "outputs": [],
   "source": [
    "import importlib\n",
    "importlib.reload(unit_psth)\n",
    "importlib.reload(unit_characteristic_plot)"
   ]
  },
  {
   "cell_type": "code",
   "execution_count": null,
   "metadata": {},
   "outputs": [],
   "source": []
  }
 ],
 "metadata": {
  "kernelspec": {
   "display_name": "Python 3",
   "language": "python",
   "name": "python3"
  },
  "language_info": {
   "codemirror_mode": {
    "name": "ipython",
    "version": 3
   },
   "file_extension": ".py",
   "mimetype": "text/x-python",
   "name": "python",
   "nbconvert_exporter": "python",
   "pygments_lexer": "ipython3",
   "version": "3.7.0"
  }
 },
 "nbformat": 4,
 "nbformat_minor": 2
}
